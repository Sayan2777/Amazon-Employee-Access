{
 "cells": [
  {
   "cell_type": "markdown",
   "id": "995c27d3",
   "metadata": {},
   "source": [
    "## Design an algorithm to accurately predict the access status to certain resources of employees"
   ]
  },
  {
   "cell_type": "code",
   "execution_count": 1,
   "id": "4a4f3cf7",
   "metadata": {},
   "outputs": [],
   "source": [
    "import pandas as pd\n",
    "import numpy as np\n",
    "import matplotlib.pyplot as plt\n",
    "import seaborn as sns\n",
    "\n",
    "%matplotlib inline"
   ]
  },
  {
   "cell_type": "code",
   "execution_count": 2,
   "id": "a3872a52",
   "metadata": {},
   "outputs": [
    {
     "data": {
      "text/html": [
       "<div>\n",
       "<style scoped>\n",
       "    .dataframe tbody tr th:only-of-type {\n",
       "        vertical-align: middle;\n",
       "    }\n",
       "\n",
       "    .dataframe tbody tr th {\n",
       "        vertical-align: top;\n",
       "    }\n",
       "\n",
       "    .dataframe thead th {\n",
       "        text-align: right;\n",
       "    }\n",
       "</style>\n",
       "<table border=\"1\" class=\"dataframe\">\n",
       "  <thead>\n",
       "    <tr style=\"text-align: right;\">\n",
       "      <th></th>\n",
       "      <th>ACTION</th>\n",
       "      <th>RESOURCE</th>\n",
       "      <th>MGR_ID</th>\n",
       "      <th>ROLE_ROLLUP_1</th>\n",
       "      <th>ROLE_ROLLUP_2</th>\n",
       "      <th>ROLE_DEPTNAME</th>\n",
       "      <th>ROLE_TITLE</th>\n",
       "      <th>ROLE_FAMILY_DESC</th>\n",
       "      <th>ROLE_FAMILY</th>\n",
       "      <th>ROLE_CODE</th>\n",
       "    </tr>\n",
       "  </thead>\n",
       "  <tbody>\n",
       "    <tr>\n",
       "      <th>0</th>\n",
       "      <td>1</td>\n",
       "      <td>39353</td>\n",
       "      <td>85475</td>\n",
       "      <td>117961</td>\n",
       "      <td>118300</td>\n",
       "      <td>123472</td>\n",
       "      <td>117905</td>\n",
       "      <td>117906</td>\n",
       "      <td>290919</td>\n",
       "      <td>117908</td>\n",
       "    </tr>\n",
       "    <tr>\n",
       "      <th>1</th>\n",
       "      <td>1</td>\n",
       "      <td>17183</td>\n",
       "      <td>1540</td>\n",
       "      <td>117961</td>\n",
       "      <td>118343</td>\n",
       "      <td>123125</td>\n",
       "      <td>118536</td>\n",
       "      <td>118536</td>\n",
       "      <td>308574</td>\n",
       "      <td>118539</td>\n",
       "    </tr>\n",
       "    <tr>\n",
       "      <th>2</th>\n",
       "      <td>1</td>\n",
       "      <td>36724</td>\n",
       "      <td>14457</td>\n",
       "      <td>118219</td>\n",
       "      <td>118220</td>\n",
       "      <td>117884</td>\n",
       "      <td>117879</td>\n",
       "      <td>267952</td>\n",
       "      <td>19721</td>\n",
       "      <td>117880</td>\n",
       "    </tr>\n",
       "    <tr>\n",
       "      <th>3</th>\n",
       "      <td>1</td>\n",
       "      <td>36135</td>\n",
       "      <td>5396</td>\n",
       "      <td>117961</td>\n",
       "      <td>118343</td>\n",
       "      <td>119993</td>\n",
       "      <td>118321</td>\n",
       "      <td>240983</td>\n",
       "      <td>290919</td>\n",
       "      <td>118322</td>\n",
       "    </tr>\n",
       "    <tr>\n",
       "      <th>4</th>\n",
       "      <td>1</td>\n",
       "      <td>42680</td>\n",
       "      <td>5905</td>\n",
       "      <td>117929</td>\n",
       "      <td>117930</td>\n",
       "      <td>119569</td>\n",
       "      <td>119323</td>\n",
       "      <td>123932</td>\n",
       "      <td>19793</td>\n",
       "      <td>119325</td>\n",
       "    </tr>\n",
       "    <tr>\n",
       "      <th>...</th>\n",
       "      <td>...</td>\n",
       "      <td>...</td>\n",
       "      <td>...</td>\n",
       "      <td>...</td>\n",
       "      <td>...</td>\n",
       "      <td>...</td>\n",
       "      <td>...</td>\n",
       "      <td>...</td>\n",
       "      <td>...</td>\n",
       "      <td>...</td>\n",
       "    </tr>\n",
       "    <tr>\n",
       "      <th>32764</th>\n",
       "      <td>1</td>\n",
       "      <td>23497</td>\n",
       "      <td>16971</td>\n",
       "      <td>117961</td>\n",
       "      <td>118300</td>\n",
       "      <td>119993</td>\n",
       "      <td>118321</td>\n",
       "      <td>240983</td>\n",
       "      <td>290919</td>\n",
       "      <td>118322</td>\n",
       "    </tr>\n",
       "    <tr>\n",
       "      <th>32765</th>\n",
       "      <td>1</td>\n",
       "      <td>25139</td>\n",
       "      <td>311198</td>\n",
       "      <td>91261</td>\n",
       "      <td>118026</td>\n",
       "      <td>122392</td>\n",
       "      <td>121143</td>\n",
       "      <td>173805</td>\n",
       "      <td>249618</td>\n",
       "      <td>121145</td>\n",
       "    </tr>\n",
       "    <tr>\n",
       "      <th>32766</th>\n",
       "      <td>1</td>\n",
       "      <td>34924</td>\n",
       "      <td>28805</td>\n",
       "      <td>117961</td>\n",
       "      <td>118327</td>\n",
       "      <td>120299</td>\n",
       "      <td>124922</td>\n",
       "      <td>152038</td>\n",
       "      <td>118612</td>\n",
       "      <td>124924</td>\n",
       "    </tr>\n",
       "    <tr>\n",
       "      <th>32767</th>\n",
       "      <td>1</td>\n",
       "      <td>80574</td>\n",
       "      <td>55643</td>\n",
       "      <td>118256</td>\n",
       "      <td>118257</td>\n",
       "      <td>117945</td>\n",
       "      <td>280788</td>\n",
       "      <td>280788</td>\n",
       "      <td>292795</td>\n",
       "      <td>119082</td>\n",
       "    </tr>\n",
       "    <tr>\n",
       "      <th>32768</th>\n",
       "      <td>1</td>\n",
       "      <td>14354</td>\n",
       "      <td>59575</td>\n",
       "      <td>117916</td>\n",
       "      <td>118150</td>\n",
       "      <td>117920</td>\n",
       "      <td>118568</td>\n",
       "      <td>122142</td>\n",
       "      <td>19721</td>\n",
       "      <td>118570</td>\n",
       "    </tr>\n",
       "  </tbody>\n",
       "</table>\n",
       "<p>32769 rows × 10 columns</p>\n",
       "</div>"
      ],
      "text/plain": [
       "       ACTION  RESOURCE  MGR_ID  ROLE_ROLLUP_1  ROLE_ROLLUP_2  ROLE_DEPTNAME  \\\n",
       "0           1     39353   85475         117961         118300         123472   \n",
       "1           1     17183    1540         117961         118343         123125   \n",
       "2           1     36724   14457         118219         118220         117884   \n",
       "3           1     36135    5396         117961         118343         119993   \n",
       "4           1     42680    5905         117929         117930         119569   \n",
       "...       ...       ...     ...            ...            ...            ...   \n",
       "32764       1     23497   16971         117961         118300         119993   \n",
       "32765       1     25139  311198          91261         118026         122392   \n",
       "32766       1     34924   28805         117961         118327         120299   \n",
       "32767       1     80574   55643         118256         118257         117945   \n",
       "32768       1     14354   59575         117916         118150         117920   \n",
       "\n",
       "       ROLE_TITLE  ROLE_FAMILY_DESC  ROLE_FAMILY  ROLE_CODE  \n",
       "0          117905            117906       290919     117908  \n",
       "1          118536            118536       308574     118539  \n",
       "2          117879            267952        19721     117880  \n",
       "3          118321            240983       290919     118322  \n",
       "4          119323            123932        19793     119325  \n",
       "...           ...               ...          ...        ...  \n",
       "32764      118321            240983       290919     118322  \n",
       "32765      121143            173805       249618     121145  \n",
       "32766      124922            152038       118612     124924  \n",
       "32767      280788            280788       292795     119082  \n",
       "32768      118568            122142        19721     118570  \n",
       "\n",
       "[32769 rows x 10 columns]"
      ]
     },
     "execution_count": 2,
     "metadata": {},
     "output_type": "execute_result"
    }
   ],
   "source": [
    "df = pd.read_csv('train.csv')\n",
    "df"
   ]
  },
  {
   "cell_type": "code",
   "execution_count": 3,
   "id": "5ec209d7",
   "metadata": {},
   "outputs": [],
   "source": [
    "# Here Action is the target variable: 1 if the resource was approved, 0 if the resource was not\n",
    "# MGR_ID: The Employee ID of the manager of the current employee id\n",
    "# RESOURCE: An ID for each resource\n",
    "# ROLE_ROLLUP_1: Company role grouping category id 1\n",
    "# ROLE_ROLLUP_2: Company role grouping category id 2\n",
    "# ROLE_DEPTNAME: Company role department description\n",
    "# ROLE_TITLE: Company role business title description\n",
    "# ROLE_CODE: Company role code; this code is unique to each role"
   ]
  },
  {
   "cell_type": "markdown",
   "id": "f129a233",
   "metadata": {},
   "source": [
    "## Data Exploration"
   ]
  },
  {
   "cell_type": "code",
   "execution_count": 4,
   "id": "f54aa3df",
   "metadata": {},
   "outputs": [
    {
     "name": "stdout",
     "output_type": "stream",
     "text": [
      "<class 'pandas.core.frame.DataFrame'>\n",
      "RangeIndex: 32769 entries, 0 to 32768\n",
      "Data columns (total 10 columns):\n",
      " #   Column            Non-Null Count  Dtype\n",
      "---  ------            --------------  -----\n",
      " 0   ACTION            32769 non-null  int64\n",
      " 1   RESOURCE          32769 non-null  int64\n",
      " 2   MGR_ID            32769 non-null  int64\n",
      " 3   ROLE_ROLLUP_1     32769 non-null  int64\n",
      " 4   ROLE_ROLLUP_2     32769 non-null  int64\n",
      " 5   ROLE_DEPTNAME     32769 non-null  int64\n",
      " 6   ROLE_TITLE        32769 non-null  int64\n",
      " 7   ROLE_FAMILY_DESC  32769 non-null  int64\n",
      " 8   ROLE_FAMILY       32769 non-null  int64\n",
      " 9   ROLE_CODE         32769 non-null  int64\n",
      "dtypes: int64(10)\n",
      "memory usage: 2.5 MB\n"
     ]
    }
   ],
   "source": [
    "df.info()"
   ]
  },
  {
   "cell_type": "code",
   "execution_count": 5,
   "id": "c23cee5e",
   "metadata": {},
   "outputs": [
    {
     "data": {
      "text/plain": [
       "ACTION              0\n",
       "RESOURCE            0\n",
       "MGR_ID              0\n",
       "ROLE_ROLLUP_1       0\n",
       "ROLE_ROLLUP_2       0\n",
       "ROLE_DEPTNAME       0\n",
       "ROLE_TITLE          0\n",
       "ROLE_FAMILY_DESC    0\n",
       "ROLE_FAMILY         0\n",
       "ROLE_CODE           0\n",
       "dtype: int64"
      ]
     },
     "execution_count": 5,
     "metadata": {},
     "output_type": "execute_result"
    }
   ],
   "source": [
    "df.isnull().sum()"
   ]
  },
  {
   "cell_type": "markdown",
   "id": "57c43335",
   "metadata": {},
   "source": [
    "#### As we can check that there is no rows that have NAN values so no need to apply preprocessing steps for this data"
   ]
  },
  {
   "cell_type": "code",
   "execution_count": 6,
   "id": "3dc04f34",
   "metadata": {},
   "outputs": [
    {
     "data": {
      "text/plain": [
       "ACTION              int64\n",
       "RESOURCE            int64\n",
       "MGR_ID              int64\n",
       "ROLE_ROLLUP_1       int64\n",
       "ROLE_ROLLUP_2       int64\n",
       "ROLE_DEPTNAME       int64\n",
       "ROLE_TITLE          int64\n",
       "ROLE_FAMILY_DESC    int64\n",
       "ROLE_FAMILY         int64\n",
       "ROLE_CODE           int64\n",
       "dtype: object"
      ]
     },
     "execution_count": 6,
     "metadata": {},
     "output_type": "execute_result"
    }
   ],
   "source": [
    "df.dtypes"
   ]
  },
  {
   "cell_type": "code",
   "execution_count": 7,
   "id": "237f4a14",
   "metadata": {},
   "outputs": [
    {
     "data": {
      "text/plain": [
       "1    30872\n",
       "0     1897\n",
       "Name: ACTION, dtype: int64"
      ]
     },
     "execution_count": 7,
     "metadata": {},
     "output_type": "execute_result"
    }
   ],
   "source": [
    "# Here ACTION is the target variable \n",
    "df['ACTION'].value_counts()"
   ]
  },
  {
   "cell_type": "code",
   "execution_count": 8,
   "id": "78e4141c",
   "metadata": {},
   "outputs": [
    {
     "data": {
      "image/png": "[encoded data removed]",
      "text/plain": [
       "<Figure size 432x288 with 1 Axes>"
      ]
     },
     "metadata": {
      "needs_background": "light"
     },
     "output_type": "display_data"
    }
   ],
   "source": [
    "# Plot to show how many employees got access and how many did not\n",
    "\n",
    "sns.countplot(x = 'ACTION', data = df, palette = 'rocket')\n",
    "plt.show()"
   ]
  },
  {
   "cell_type": "markdown",
   "id": "20b153d3",
   "metadata": {},
   "source": [
    "#### Separating the target variable from the dataset"
   ]
  },
  {
   "cell_type": "code",
   "execution_count": 9,
   "id": "de67f55e",
   "metadata": {},
   "outputs": [
    {
     "data": {
      "text/plain": [
       "0        1\n",
       "1        1\n",
       "2        1\n",
       "3        1\n",
       "4        1\n",
       "        ..\n",
       "32764    1\n",
       "32765    1\n",
       "32766    1\n",
       "32767    1\n",
       "32768    1\n",
       "Name: ACTION, Length: 32769, dtype: int64"
      ]
     },
     "execution_count": 9,
     "metadata": {},
     "output_type": "execute_result"
    }
   ],
   "source": [
    "y = df['ACTION']\n",
    "y"
   ]
  },
  {
   "cell_type": "code",
   "execution_count": 10,
   "id": "bce4250b",
   "metadata": {},
   "outputs": [],
   "source": [
    "df = df.drop(['ACTION'], axis = 1)"
   ]
  },
  {
   "cell_type": "code",
   "execution_count": 11,
   "id": "14c19ec4",
   "metadata": {},
   "outputs": [
    {
     "data": {
      "text/html": [
       "<div>\n",
       "<style scoped>\n",
       "    .dataframe tbody tr th:only-of-type {\n",
       "        vertical-align: middle;\n",
       "    }\n",
       "\n",
       "    .dataframe tbody tr th {\n",
       "        vertical-align: top;\n",
       "    }\n",
       "\n",
       "    .dataframe thead th {\n",
       "        text-align: right;\n",
       "    }\n",
       "</style>\n",
       "<table border=\"1\" class=\"dataframe\">\n",
       "  <thead>\n",
       "    <tr style=\"text-align: right;\">\n",
       "      <th></th>\n",
       "      <th>RESOURCE</th>\n",
       "      <th>MGR_ID</th>\n",
       "      <th>ROLE_ROLLUP_1</th>\n",
       "      <th>ROLE_ROLLUP_2</th>\n",
       "      <th>ROLE_DEPTNAME</th>\n",
       "      <th>ROLE_TITLE</th>\n",
       "      <th>ROLE_FAMILY_DESC</th>\n",
       "      <th>ROLE_FAMILY</th>\n",
       "      <th>ROLE_CODE</th>\n",
       "    </tr>\n",
       "  </thead>\n",
       "  <tbody>\n",
       "    <tr>\n",
       "      <th>0</th>\n",
       "      <td>39353</td>\n",
       "      <td>85475</td>\n",
       "      <td>117961</td>\n",
       "      <td>118300</td>\n",
       "      <td>123472</td>\n",
       "      <td>117905</td>\n",
       "      <td>117906</td>\n",
       "      <td>290919</td>\n",
       "      <td>117908</td>\n",
       "    </tr>\n",
       "    <tr>\n",
       "      <th>1</th>\n",
       "      <td>17183</td>\n",
       "      <td>1540</td>\n",
       "      <td>117961</td>\n",
       "      <td>118343</td>\n",
       "      <td>123125</td>\n",
       "      <td>118536</td>\n",
       "      <td>118536</td>\n",
       "      <td>308574</td>\n",
       "      <td>118539</td>\n",
       "    </tr>\n",
       "    <tr>\n",
       "      <th>2</th>\n",
       "      <td>36724</td>\n",
       "      <td>14457</td>\n",
       "      <td>118219</td>\n",
       "      <td>118220</td>\n",
       "      <td>117884</td>\n",
       "      <td>117879</td>\n",
       "      <td>267952</td>\n",
       "      <td>19721</td>\n",
       "      <td>117880</td>\n",
       "    </tr>\n",
       "    <tr>\n",
       "      <th>3</th>\n",
       "      <td>36135</td>\n",
       "      <td>5396</td>\n",
       "      <td>117961</td>\n",
       "      <td>118343</td>\n",
       "      <td>119993</td>\n",
       "      <td>118321</td>\n",
       "      <td>240983</td>\n",
       "      <td>290919</td>\n",
       "      <td>118322</td>\n",
       "    </tr>\n",
       "    <tr>\n",
       "      <th>4</th>\n",
       "      <td>42680</td>\n",
       "      <td>5905</td>\n",
       "      <td>117929</td>\n",
       "      <td>117930</td>\n",
       "      <td>119569</td>\n",
       "      <td>119323</td>\n",
       "      <td>123932</td>\n",
       "      <td>19793</td>\n",
       "      <td>119325</td>\n",
       "    </tr>\n",
       "    <tr>\n",
       "      <th>...</th>\n",
       "      <td>...</td>\n",
       "      <td>...</td>\n",
       "      <td>...</td>\n",
       "      <td>...</td>\n",
       "      <td>...</td>\n",
       "      <td>...</td>\n",
       "      <td>...</td>\n",
       "      <td>...</td>\n",
       "      <td>...</td>\n",
       "    </tr>\n",
       "    <tr>\n",
       "      <th>32764</th>\n",
       "      <td>23497</td>\n",
       "      <td>16971</td>\n",
       "      <td>117961</td>\n",
       "      <td>118300</td>\n",
       "      <td>119993</td>\n",
       "      <td>118321</td>\n",
       "      <td>240983</td>\n",
       "      <td>290919</td>\n",
       "      <td>118322</td>\n",
       "    </tr>\n",
       "    <tr>\n",
       "      <th>32765</th>\n",
       "      <td>25139</td>\n",
       "      <td>311198</td>\n",
       "      <td>91261</td>\n",
       "      <td>118026</td>\n",
       "      <td>122392</td>\n",
       "      <td>121143</td>\n",
       "      <td>173805</td>\n",
       "      <td>249618</td>\n",
       "      <td>121145</td>\n",
       "    </tr>\n",
       "    <tr>\n",
       "      <th>32766</th>\n",
       "      <td>34924</td>\n",
       "      <td>28805</td>\n",
       "      <td>117961</td>\n",
       "      <td>118327</td>\n",
       "      <td>120299</td>\n",
       "      <td>124922</td>\n",
       "      <td>152038</td>\n",
       "      <td>118612</td>\n",
       "      <td>124924</td>\n",
       "    </tr>\n",
       "    <tr>\n",
       "      <th>32767</th>\n",
       "      <td>80574</td>\n",
       "      <td>55643</td>\n",
       "      <td>118256</td>\n",
       "      <td>118257</td>\n",
       "      <td>117945</td>\n",
       "      <td>280788</td>\n",
       "      <td>280788</td>\n",
       "      <td>292795</td>\n",
       "      <td>119082</td>\n",
       "    </tr>\n",
       "    <tr>\n",
       "      <th>32768</th>\n",
       "      <td>14354</td>\n",
       "      <td>59575</td>\n",
       "      <td>117916</td>\n",
       "      <td>118150</td>\n",
       "      <td>117920</td>\n",
       "      <td>118568</td>\n",
       "      <td>122142</td>\n",
       "      <td>19721</td>\n",
       "      <td>118570</td>\n",
       "    </tr>\n",
       "  </tbody>\n",
       "</table>\n",
       "<p>32769 rows × 9 columns</p>\n",
       "</div>"
      ],
      "text/plain": [
       "       RESOURCE  MGR_ID  ROLE_ROLLUP_1  ROLE_ROLLUP_2  ROLE_DEPTNAME  \\\n",
       "0         39353   85475         117961         118300         123472   \n",
       "1         17183    1540         117961         118343         123125   \n",
       "2         36724   14457         118219         118220         117884   \n",
       "3         36135    5396         117961         118343         119993   \n",
       "4         42680    5905         117929         117930         119569   \n",
       "...         ...     ...            ...            ...            ...   \n",
       "32764     23497   16971         117961         118300         119993   \n",
       "32765     25139  311198          91261         118026         122392   \n",
       "32766     34924   28805         117961         118327         120299   \n",
       "32767     80574   55643         118256         118257         117945   \n",
       "32768     14354   59575         117916         118150         117920   \n",
       "\n",
       "       ROLE_TITLE  ROLE_FAMILY_DESC  ROLE_FAMILY  ROLE_CODE  \n",
       "0          117905            117906       290919     117908  \n",
       "1          118536            118536       308574     118539  \n",
       "2          117879            267952        19721     117880  \n",
       "3          118321            240983       290919     118322  \n",
       "4          119323            123932        19793     119325  \n",
       "...           ...               ...          ...        ...  \n",
       "32764      118321            240983       290919     118322  \n",
       "32765      121143            173805       249618     121145  \n",
       "32766      124922            152038       118612     124924  \n",
       "32767      280788            280788       292795     119082  \n",
       "32768      118568            122142        19721     118570  \n",
       "\n",
       "[32769 rows x 9 columns]"
      ]
     },
     "execution_count": 11,
     "metadata": {},
     "output_type": "execute_result"
    }
   ],
   "source": [
    "x = df\n",
    "x"
   ]
  },
  {
   "cell_type": "markdown",
   "id": "84027bae",
   "metadata": {},
   "source": [
    "## Creating model for Logistic Classification"
   ]
  },
  {
   "cell_type": "code",
   "execution_count": 12,
   "id": "e75d101c",
   "metadata": {},
   "outputs": [],
   "source": [
    "from sklearn.linear_model import LogisticRegression\n",
    "from sklearn.model_selection import train_test_split"
   ]
  },
  {
   "cell_type": "code",
   "execution_count": 13,
   "id": "75c9aca3",
   "metadata": {},
   "outputs": [],
   "source": [
    "x_train, x_test, y_train, y_test = train_test_split(x,y,test_size = 0.3,random_state=0)"
   ]
  },
  {
   "cell_type": "code",
   "execution_count": 14,
   "id": "b4559fb3",
   "metadata": {},
   "outputs": [
    {
     "data": {
      "text/plain": [
       "((22938, 9), (9831, 9))"
      ]
     },
     "execution_count": 14,
     "metadata": {},
     "output_type": "execute_result"
    }
   ],
   "source": [
    "x_train.shape, x_test.shape"
   ]
  },
  {
   "cell_type": "code",
   "execution_count": 15,
   "id": "8f0a7323",
   "metadata": {},
   "outputs": [],
   "source": [
    "log_reg = LogisticRegression()"
   ]
  },
  {
   "cell_type": "code",
   "execution_count": 16,
   "id": "e3089ab2",
   "metadata": {},
   "outputs": [
    {
     "data": {
      "text/plain": [
       "LogisticRegression()"
      ]
     },
     "execution_count": 16,
     "metadata": {},
     "output_type": "execute_result"
    }
   ],
   "source": [
    "log_reg.fit(x_train,y_train)"
   ]
  },
  {
   "cell_type": "code",
   "execution_count": 17,
   "id": "c51edc37",
   "metadata": {},
   "outputs": [
    {
     "data": {
      "text/plain": [
       "array([1, 1, 1, ..., 1, 1, 1], dtype=int64)"
      ]
     },
     "execution_count": 17,
     "metadata": {},
     "output_type": "execute_result"
    }
   ],
   "source": [
    "y_pred = log_reg.predict(x_test)\n",
    "y_pred"
   ]
  },
  {
   "cell_type": "code",
   "execution_count": 18,
   "id": "9234d6e4",
   "metadata": {},
   "outputs": [
    {
     "data": {
      "text/plain": [
       "array([[0.05940437, 0.94059563],\n",
       "       [0.05357958, 0.94642042],\n",
       "       [0.05837986, 0.94162014],\n",
       "       ...,\n",
       "       [0.05988483, 0.94011517],\n",
       "       [0.06086882, 0.93913118],\n",
       "       [0.04578481, 0.95421519]])"
      ]
     },
     "execution_count": 18,
     "metadata": {},
     "output_type": "execute_result"
    }
   ],
   "source": [
    "# To find the prediction probability\n",
    "\n",
    "log_reg.predict_proba(x_test)"
   ]
  },
  {
   "cell_type": "code",
   "execution_count": 19,
   "id": "ebf7a496",
   "metadata": {},
   "outputs": [],
   "source": [
    "# import libraries for metrics and reporting\n",
    "from sklearn.metrics import confusion_matrix\n",
    "from sklearn.metrics import classification_report\n",
    "from sklearn.metrics import accuracy_score\n",
    "from sklearn.metrics import precision_score\n",
    "from sklearn.metrics import recall_score\n",
    "from sklearn.metrics import f1_score"
   ]
  },
  {
   "cell_type": "code",
   "execution_count": 20,
   "id": "2d3db3ed",
   "metadata": {},
   "outputs": [
    {
     "data": {
      "text/plain": [
       "array([[   0,  558],\n",
       "       [   0, 9273]], dtype=int64)"
      ]
     },
     "execution_count": 20,
     "metadata": {},
     "output_type": "execute_result"
    }
   ],
   "source": [
    "# To check the confusion matrix\n",
    "confusion_matrix(y_test, y_pred)"
   ]
  },
  {
   "cell_type": "code",
   "execution_count": 21,
   "id": "123e8f81",
   "metadata": {},
   "outputs": [
    {
     "data": {
      "text/plain": [
       "0.9432407689960329"
      ]
     },
     "execution_count": 21,
     "metadata": {},
     "output_type": "execute_result"
    }
   ],
   "source": [
    "accuracy_score(y_test, y_pred)"
   ]
  },
  {
   "cell_type": "code",
   "execution_count": 22,
   "id": "2dd09f08",
   "metadata": {},
   "outputs": [
    {
     "name": "stdout",
     "output_type": "stream",
     "text": [
      "              precision    recall  f1-score   support\n",
      "\n",
      "           0       0.00      0.00      0.00       558\n",
      "           1       0.94      1.00      0.97      9273\n",
      "\n",
      "    accuracy                           0.94      9831\n",
      "   macro avg       0.47      0.50      0.49      9831\n",
      "weighted avg       0.89      0.94      0.92      9831\n",
      "\n"
     ]
    },
    {
     "name": "stderr",
     "output_type": "stream",
     "text": [
      "C:\\Users\\sayan\\anaconda3\\lib\\site-packages\\sklearn\\metrics\\_classification.py:1245: UndefinedMetricWarning: Precision and F-score are ill-defined and being set to 0.0 in labels with no predicted samples. Use `zero_division` parameter to control this behavior.\n",
      "  _warn_prf(average, modifier, msg_start, len(result))\n",
      "C:\\Users\\sayan\\anaconda3\\lib\\site-packages\\sklearn\\metrics\\_classification.py:1245: UndefinedMetricWarning: Precision and F-score are ill-defined and being set to 0.0 in labels with no predicted samples. Use `zero_division` parameter to control this behavior.\n",
      "  _warn_prf(average, modifier, msg_start, len(result))\n",
      "C:\\Users\\sayan\\anaconda3\\lib\\site-packages\\sklearn\\metrics\\_classification.py:1245: UndefinedMetricWarning: Precision and F-score are ill-defined and being set to 0.0 in labels with no predicted samples. Use `zero_division` parameter to control this behavior.\n",
      "  _warn_prf(average, modifier, msg_start, len(result))\n"
     ]
    }
   ],
   "source": [
    "print(classification_report(y_test, y_pred))"
   ]
  },
  {
   "cell_type": "markdown",
   "id": "e7550d53",
   "metadata": {},
   "source": [
    "## Creating model for Decision Tree Classifier"
   ]
  },
  {
   "cell_type": "code",
   "execution_count": 23,
   "id": "82f360c6",
   "metadata": {},
   "outputs": [],
   "source": [
    "from sklearn.tree import DecisionTreeClassifier"
   ]
  },
  {
   "cell_type": "code",
   "execution_count": 24,
   "id": "58b15b68",
   "metadata": {},
   "outputs": [],
   "source": [
    "classifier = DecisionTreeClassifier()"
   ]
  },
  {
   "cell_type": "code",
   "execution_count": 25,
   "id": "2ef36149",
   "metadata": {},
   "outputs": [
    {
     "data": {
      "text/plain": [
       "DecisionTreeClassifier()"
      ]
     },
     "execution_count": 25,
     "metadata": {},
     "output_type": "execute_result"
    }
   ],
   "source": [
    "classifier.fit(x_train,y_train)"
   ]
  },
  {
   "cell_type": "code",
   "execution_count": 26,
   "id": "3e6657f0",
   "metadata": {},
   "outputs": [
    {
     "data": {
      "text/plain": [
       "1.0"
      ]
     },
     "execution_count": 26,
     "metadata": {},
     "output_type": "execute_result"
    }
   ],
   "source": [
    "classifier.score(x_train,y_train)"
   ]
  },
  {
   "cell_type": "code",
   "execution_count": 27,
   "id": "4fc38376",
   "metadata": {},
   "outputs": [
    {
     "data": {
      "text/plain": [
       "0.9252364967958498"
      ]
     },
     "execution_count": 27,
     "metadata": {},
     "output_type": "execute_result"
    }
   ],
   "source": [
    "classifier.score(x_test, y_test)"
   ]
  },
  {
   "cell_type": "code",
   "execution_count": 28,
   "id": "fb6b9326",
   "metadata": {},
   "outputs": [],
   "source": [
    "pred_y_train = classifier.predict(x_train)"
   ]
  },
  {
   "cell_type": "code",
   "execution_count": 29,
   "id": "64117db2",
   "metadata": {},
   "outputs": [
    {
     "data": {
      "text/plain": [
       "array([0, 1, 1, ..., 1, 1, 1], dtype=int64)"
      ]
     },
     "execution_count": 29,
     "metadata": {},
     "output_type": "execute_result"
    }
   ],
   "source": [
    "pred_y_train"
   ]
  },
  {
   "cell_type": "code",
   "execution_count": 30,
   "id": "7b43f765",
   "metadata": {},
   "outputs": [
    {
     "data": {
      "text/plain": [
       "array([1, 1, 1, ..., 1, 1, 1], dtype=int64)"
      ]
     },
     "execution_count": 30,
     "metadata": {},
     "output_type": "execute_result"
    }
   ],
   "source": [
    "pred_y_test = classifier.predict(x_test)\n",
    "pred_y_test"
   ]
  },
  {
   "cell_type": "code",
   "execution_count": 31,
   "id": "12e65c9d",
   "metadata": {},
   "outputs": [],
   "source": [
    "# For parameter tuning \n",
    "\n",
    "from sklearn.model_selection import GridSearchCV"
   ]
  },
  {
   "cell_type": "code",
   "execution_count": 32,
   "id": "8eec6a88",
   "metadata": {},
   "outputs": [],
   "source": [
    "params = {\n",
    "    'max_depth':[1,2,3,4,5],\n",
    "    'criterion':['gini', 'entropy'],\n",
    "    'min_samples_leaf':[1,2,3,4]\n",
    "}"
   ]
  },
  {
   "cell_type": "code",
   "execution_count": 33,
   "id": "02ab20d4",
   "metadata": {},
   "outputs": [],
   "source": [
    "grid = GridSearchCV(classifier, param_grid=params, cv = 3, verbose = 2)"
   ]
  },
  {
   "cell_type": "code",
   "execution_count": 34,
   "id": "cb694971",
   "metadata": {},
   "outputs": [
    {
     "name": "stdout",
     "output_type": "stream",
     "text": [
      "Fitting 3 folds for each of 40 candidates, totalling 120 fits\n",
      "[CV] END ....criterion=gini, max_depth=1, min_samples_leaf=1; total time=   0.0s\n",
      "[CV] END ....criterion=gini, max_depth=1, min_samples_leaf=1; total time=   0.0s\n",
      "[CV] END ....criterion=gini, max_depth=1, min_samples_leaf=1; total time=   0.0s\n",
      "[CV] END ....criterion=gini, max_depth=1, min_samples_leaf=2; total time=   0.0s\n",
      "[CV] END ....criterion=gini, max_depth=1, min_samples_leaf=2; total time=   0.0s\n",
      "[CV] END ....criterion=gini, max_depth=1, min_samples_leaf=2; total time=   0.0s\n",
      "[CV] END ....criterion=gini, max_depth=1, min_samples_leaf=3; total time=   0.0s\n",
      "[CV] END ....criterion=gini, max_depth=1, min_samples_leaf=3; total time=   0.0s\n",
      "[CV] END ....criterion=gini, max_depth=1, min_samples_leaf=3; total time=   0.0s\n",
      "[CV] END ....criterion=gini, max_depth=1, min_samples_leaf=4; total time=   0.0s\n",
      "[CV] END ....criterion=gini, max_depth=1, min_samples_leaf=4; total time=   0.0s\n",
      "[CV] END ....criterion=gini, max_depth=1, min_samples_leaf=4; total time=   0.0s\n",
      "[CV] END ....criterion=gini, max_depth=2, min_samples_leaf=1; total time=   0.0s\n",
      "[CV] END ....criterion=gini, max_depth=2, min_samples_leaf=1; total time=   0.0s\n",
      "[CV] END ....criterion=gini, max_depth=2, min_samples_leaf=1; total time=   0.0s\n",
      "[CV] END ....criterion=gini, max_depth=2, min_samples_leaf=2; total time=   0.0s\n",
      "[CV] END ....criterion=gini, max_depth=2, min_samples_leaf=2; total time=   0.0s\n",
      "[CV] END ....criterion=gini, max_depth=2, min_samples_leaf=2; total time=   0.0s\n",
      "[CV] END ....criterion=gini, max_depth=2, min_samples_leaf=3; total time=   0.0s\n",
      "[CV] END ....criterion=gini, max_depth=2, min_samples_leaf=3; total time=   0.0s\n",
      "[CV] END ....criterion=gini, max_depth=2, min_samples_leaf=3; total time=   0.0s\n",
      "[CV] END ....criterion=gini, max_depth=2, min_samples_leaf=4; total time=   0.0s\n",
      "[CV] END ....criterion=gini, max_depth=2, min_samples_leaf=4; total time=   0.0s\n",
      "[CV] END ....criterion=gini, max_depth=2, min_samples_leaf=4; total time=   0.0s\n",
      "[CV] END ....criterion=gini, max_depth=3, min_samples_leaf=1; total time=   0.0s\n",
      "[CV] END ....criterion=gini, max_depth=3, min_samples_leaf=1; total time=   0.0s\n",
      "[CV] END ....criterion=gini, max_depth=3, min_samples_leaf=1; total time=   0.0s\n",
      "[CV] END ....criterion=gini, max_depth=3, min_samples_leaf=2; total time=   0.0s\n",
      "[CV] END ....criterion=gini, max_depth=3, min_samples_leaf=2; total time=   0.0s\n",
      "[CV] END ....criterion=gini, max_depth=3, min_samples_leaf=2; total time=   0.0s\n",
      "[CV] END ....criterion=gini, max_depth=3, min_samples_leaf=3; total time=   0.0s\n",
      "[CV] END ....criterion=gini, max_depth=3, min_samples_leaf=3; total time=   0.0s\n",
      "[CV] END ....criterion=gini, max_depth=3, min_samples_leaf=3; total time=   0.0s\n",
      "[CV] END ....criterion=gini, max_depth=3, min_samples_leaf=4; total time=   0.0s\n",
      "[CV] END ....criterion=gini, max_depth=3, min_samples_leaf=4; total time=   0.0s\n",
      "[CV] END ....criterion=gini, max_depth=3, min_samples_leaf=4; total time=   0.0s\n",
      "[CV] END ....criterion=gini, max_depth=4, min_samples_leaf=1; total time=   0.0s\n",
      "[CV] END ....criterion=gini, max_depth=4, min_samples_leaf=1; total time=   0.0s\n",
      "[CV] END ....criterion=gini, max_depth=4, min_samples_leaf=1; total time=   0.0s\n",
      "[CV] END ....criterion=gini, max_depth=4, min_samples_leaf=2; total time=   0.0s\n",
      "[CV] END ....criterion=gini, max_depth=4, min_samples_leaf=2; total time=   0.0s\n",
      "[CV] END ....criterion=gini, max_depth=4, min_samples_leaf=2; total time=   0.0s\n",
      "[CV] END ....criterion=gini, max_depth=4, min_samples_leaf=3; total time=   0.0s\n",
      "[CV] END ....criterion=gini, max_depth=4, min_samples_leaf=3; total time=   0.0s\n",
      "[CV] END ....criterion=gini, max_depth=4, min_samples_leaf=3; total time=   0.0s\n",
      "[CV] END ....criterion=gini, max_depth=4, min_samples_leaf=4; total time=   0.0s\n",
      "[CV] END ....criterion=gini, max_depth=4, min_samples_leaf=4; total time=   0.0s\n",
      "[CV] END ....criterion=gini, max_depth=4, min_samples_leaf=4; total time=   0.0s\n",
      "[CV] END ....criterion=gini, max_depth=5, min_samples_leaf=1; total time=   0.0s\n",
      "[CV] END ....criterion=gini, max_depth=5, min_samples_leaf=1; total time=   0.0s\n",
      "[CV] END ....criterion=gini, max_depth=5, min_samples_leaf=1; total time=   0.0s\n",
      "[CV] END ....criterion=gini, max_depth=5, min_samples_leaf=2; total time=   0.0s\n",
      "[CV] END ....criterion=gini, max_depth=5, min_samples_leaf=2; total time=   0.0s\n",
      "[CV] END ....criterion=gini, max_depth=5, min_samples_leaf=2; total time=   0.0s\n",
      "[CV] END ....criterion=gini, max_depth=5, min_samples_leaf=3; total time=   0.0s\n",
      "[CV] END ....criterion=gini, max_depth=5, min_samples_leaf=3; total time=   0.0s\n",
      "[CV] END ....criterion=gini, max_depth=5, min_samples_leaf=3; total time=   0.0s\n",
      "[CV] END ....criterion=gini, max_depth=5, min_samples_leaf=4; total time=   0.0s\n",
      "[CV] END ....criterion=gini, max_depth=5, min_samples_leaf=4; total time=   0.0s\n",
      "[CV] END ....criterion=gini, max_depth=5, min_samples_leaf=4; total time=   0.0s\n",
      "[CV] END .criterion=entropy, max_depth=1, min_samples_leaf=1; total time=   0.0s\n",
      "[CV] END .criterion=entropy, max_depth=1, min_samples_leaf=1; total time=   0.0s\n",
      "[CV] END .criterion=entropy, max_depth=1, min_samples_leaf=1; total time=   0.0s\n",
      "[CV] END .criterion=entropy, max_depth=1, min_samples_leaf=2; total time=   0.0s\n",
      "[CV] END .criterion=entropy, max_depth=1, min_samples_leaf=2; total time=   0.0s\n",
      "[CV] END .criterion=entropy, max_depth=1, min_samples_leaf=2; total time=   0.0s\n",
      "[CV] END .criterion=entropy, max_depth=1, min_samples_leaf=3; total time=   0.0s\n",
      "[CV] END .criterion=entropy, max_depth=1, min_samples_leaf=3; total time=   0.0s\n",
      "[CV] END .criterion=entropy, max_depth=1, min_samples_leaf=3; total time=   0.0s\n",
      "[CV] END .criterion=entropy, max_depth=1, min_samples_leaf=4; total time=   0.0s\n",
      "[CV] END .criterion=entropy, max_depth=1, min_samples_leaf=4; total time=   0.0s\n",
      "[CV] END .criterion=entropy, max_depth=1, min_samples_leaf=4; total time=   0.0s\n",
      "[CV] END .criterion=entropy, max_depth=2, min_samples_leaf=1; total time=   0.0s\n",
      "[CV] END .criterion=entropy, max_depth=2, min_samples_leaf=1; total time=   0.0s\n",
      "[CV] END .criterion=entropy, max_depth=2, min_samples_leaf=1; total time=   0.0s\n",
      "[CV] END .criterion=entropy, max_depth=2, min_samples_leaf=2; total time=   0.0s\n",
      "[CV] END .criterion=entropy, max_depth=2, min_samples_leaf=2; total time=   0.0s\n",
      "[CV] END .criterion=entropy, max_depth=2, min_samples_leaf=2; total time=   0.0s\n",
      "[CV] END .criterion=entropy, max_depth=2, min_samples_leaf=3; total time=   0.0s\n",
      "[CV] END .criterion=entropy, max_depth=2, min_samples_leaf=3; total time=   0.0s\n",
      "[CV] END .criterion=entropy, max_depth=2, min_samples_leaf=3; total time=   0.0s\n",
      "[CV] END .criterion=entropy, max_depth=2, min_samples_leaf=4; total time=   0.0s\n",
      "[CV] END .criterion=entropy, max_depth=2, min_samples_leaf=4; total time=   0.0s\n",
      "[CV] END .criterion=entropy, max_depth=2, min_samples_leaf=4; total time=   0.0s\n",
      "[CV] END .criterion=entropy, max_depth=3, min_samples_leaf=1; total time=   0.0s\n",
      "[CV] END .criterion=entropy, max_depth=3, min_samples_leaf=1; total time=   0.0s\n",
      "[CV] END .criterion=entropy, max_depth=3, min_samples_leaf=1; total time=   0.0s\n",
      "[CV] END .criterion=entropy, max_depth=3, min_samples_leaf=2; total time=   0.0s\n",
      "[CV] END .criterion=entropy, max_depth=3, min_samples_leaf=2; total time=   0.0s\n",
      "[CV] END .criterion=entropy, max_depth=3, min_samples_leaf=2; total time=   0.0s\n",
      "[CV] END .criterion=entropy, max_depth=3, min_samples_leaf=3; total time=   0.0s\n",
      "[CV] END .criterion=entropy, max_depth=3, min_samples_leaf=3; total time=   0.0s\n",
      "[CV] END .criterion=entropy, max_depth=3, min_samples_leaf=3; total time=   0.0s\n",
      "[CV] END .criterion=entropy, max_depth=3, min_samples_leaf=4; total time=   0.0s\n",
      "[CV] END .criterion=entropy, max_depth=3, min_samples_leaf=4; total time=   0.0s\n",
      "[CV] END .criterion=entropy, max_depth=3, min_samples_leaf=4; total time=   0.0s\n",
      "[CV] END .criterion=entropy, max_depth=4, min_samples_leaf=1; total time=   0.0s\n",
      "[CV] END .criterion=entropy, max_depth=4, min_samples_leaf=1; total time=   0.0s\n",
      "[CV] END .criterion=entropy, max_depth=4, min_samples_leaf=1; total time=   0.0s\n",
      "[CV] END .criterion=entropy, max_depth=4, min_samples_leaf=2; total time=   0.0s\n",
      "[CV] END .criterion=entropy, max_depth=4, min_samples_leaf=2; total time=   0.0s\n",
      "[CV] END .criterion=entropy, max_depth=4, min_samples_leaf=2; total time=   0.0s\n",
      "[CV] END .criterion=entropy, max_depth=4, min_samples_leaf=3; total time=   0.0s\n"
     ]
    },
    {
     "name": "stdout",
     "output_type": "stream",
     "text": [
      "[CV] END .criterion=entropy, max_depth=4, min_samples_leaf=3; total time=   0.0s\n",
      "[CV] END .criterion=entropy, max_depth=4, min_samples_leaf=3; total time=   0.0s\n",
      "[CV] END .criterion=entropy, max_depth=4, min_samples_leaf=4; total time=   0.0s\n",
      "[CV] END .criterion=entropy, max_depth=4, min_samples_leaf=4; total time=   0.0s\n",
      "[CV] END .criterion=entropy, max_depth=4, min_samples_leaf=4; total time=   0.0s\n",
      "[CV] END .criterion=entropy, max_depth=5, min_samples_leaf=1; total time=   0.0s\n",
      "[CV] END .criterion=entropy, max_depth=5, min_samples_leaf=1; total time=   0.0s\n",
      "[CV] END .criterion=entropy, max_depth=5, min_samples_leaf=1; total time=   0.0s\n",
      "[CV] END .criterion=entropy, max_depth=5, min_samples_leaf=2; total time=   0.0s\n",
      "[CV] END .criterion=entropy, max_depth=5, min_samples_leaf=2; total time=   0.0s\n",
      "[CV] END .criterion=entropy, max_depth=5, min_samples_leaf=2; total time=   0.0s\n",
      "[CV] END .criterion=entropy, max_depth=5, min_samples_leaf=3; total time=   0.0s\n",
      "[CV] END .criterion=entropy, max_depth=5, min_samples_leaf=3; total time=   0.0s\n",
      "[CV] END .criterion=entropy, max_depth=5, min_samples_leaf=3; total time=   0.0s\n",
      "[CV] END .criterion=entropy, max_depth=5, min_samples_leaf=4; total time=   0.0s\n",
      "[CV] END .criterion=entropy, max_depth=5, min_samples_leaf=4; total time=   0.0s\n",
      "[CV] END .criterion=entropy, max_depth=5, min_samples_leaf=4; total time=   0.0s\n"
     ]
    },
    {
     "data": {
      "text/plain": [
       "GridSearchCV(cv=3, estimator=DecisionTreeClassifier(),\n",
       "             param_grid={'criterion': ['gini', 'entropy'],\n",
       "                         'max_depth': [1, 2, 3, 4, 5],\n",
       "                         'min_samples_leaf': [1, 2, 3, 4]},\n",
       "             verbose=2)"
      ]
     },
     "execution_count": 34,
     "metadata": {},
     "output_type": "execute_result"
    }
   ],
   "source": [
    "grid.fit(x_train, y_train)"
   ]
  },
  {
   "cell_type": "code",
   "execution_count": 35,
   "id": "67178e67",
   "metadata": {},
   "outputs": [
    {
     "data": {
      "text/plain": [
       "{'criterion': 'gini', 'max_depth': 4, 'min_samples_leaf': 1}"
      ]
     },
     "execution_count": 35,
     "metadata": {},
     "output_type": "execute_result"
    }
   ],
   "source": [
    "grid.best_params_"
   ]
  },
  {
   "cell_type": "code",
   "execution_count": 36,
   "id": "87b2adb8",
   "metadata": {},
   "outputs": [
    {
     "data": {
      "text/plain": [
       "0.9421919958148051"
      ]
     },
     "execution_count": 36,
     "metadata": {},
     "output_type": "execute_result"
    }
   ],
   "source": [
    "grid.best_score_"
   ]
  },
  {
   "cell_type": "code",
   "execution_count": 37,
   "id": "c1422091",
   "metadata": {},
   "outputs": [],
   "source": [
    "# As we can check after hyper parameter tuning the score has increased"
   ]
  },
  {
   "cell_type": "markdown",
   "id": "ade06362",
   "metadata": {},
   "source": [
    "## Random Forest Classifier"
   ]
  },
  {
   "cell_type": "code",
   "execution_count": 23,
   "id": "44072fda",
   "metadata": {},
   "outputs": [],
   "source": [
    "from sklearn.ensemble import RandomForestClassifier"
   ]
  },
  {
   "cell_type": "code",
   "execution_count": 24,
   "id": "9ed2ddd8",
   "metadata": {},
   "outputs": [],
   "source": [
    "rf = RandomForestClassifier()"
   ]
  },
  {
   "cell_type": "code",
   "execution_count": 25,
   "id": "05a4d3cd",
   "metadata": {},
   "outputs": [
    {
     "data": {
      "text/plain": [
       "RandomForestClassifier()"
      ]
     },
     "execution_count": 25,
     "metadata": {},
     "output_type": "execute_result"
    }
   ],
   "source": [
    "rf.fit(x_train, y_train)"
   ]
  },
  {
   "cell_type": "code",
   "execution_count": 26,
   "id": "4f60315c",
   "metadata": {},
   "outputs": [
    {
     "data": {
      "text/plain": [
       "1.0"
      ]
     },
     "execution_count": 26,
     "metadata": {},
     "output_type": "execute_result"
    }
   ],
   "source": [
    "rf.score(x_train, y_train)"
   ]
  },
  {
   "cell_type": "code",
   "execution_count": 27,
   "id": "a5ab933a",
   "metadata": {},
   "outputs": [
    {
     "data": {
      "text/plain": [
       "0.9478181263350626"
      ]
     },
     "execution_count": 27,
     "metadata": {},
     "output_type": "execute_result"
    }
   ],
   "source": [
    "rf.score(x_test, y_test)"
   ]
  },
  {
   "cell_type": "markdown",
   "id": "afa4b237",
   "metadata": {},
   "source": [
    "## Applying Grid Search CV"
   ]
  },
  {
   "cell_type": "code",
   "execution_count": 43,
   "id": "e3b89947",
   "metadata": {},
   "outputs": [],
   "source": [
    "param_grid = {\n",
    "    'max_features':['auto', 'sqrt'],\n",
    "    'bootstrap':[True,False],\n",
    "    'min_samples_leaf':[1,2,4],\n",
    "    'min_samples_split':[2,5,10]\n",
    "}"
   ]
  },
  {
   "cell_type": "code",
   "execution_count": 44,
   "id": "8625712b",
   "metadata": {},
   "outputs": [],
   "source": [
    "gs = GridSearchCV(rf, param_grid=param_grid, cv = 3, verbose = 2)"
   ]
  },
  {
   "cell_type": "code",
   "execution_count": 45,
   "id": "0464fa66",
   "metadata": {},
   "outputs": [
    {
     "name": "stdout",
     "output_type": "stream",
     "text": [
      "Fitting 3 folds for each of 36 candidates, totalling 108 fits\n",
      "[CV] END bootstrap=True, max_features=auto, min_samples_leaf=1, min_samples_split=2; total time=   2.2s\n",
      "[CV] END bootstrap=True, max_features=auto, min_samples_leaf=1, min_samples_split=2; total time=   2.0s\n",
      "[CV] END bootstrap=True, max_features=auto, min_samples_leaf=1, min_samples_split=2; total time=   2.1s\n",
      "[CV] END bootstrap=True, max_features=auto, min_samples_leaf=1, min_samples_split=5; total time=   2.1s\n",
      "[CV] END bootstrap=True, max_features=auto, min_samples_leaf=1, min_samples_split=5; total time=   2.0s\n",
      "[CV] END bootstrap=True, max_features=auto, min_samples_leaf=1, min_samples_split=5; total time=   2.0s\n",
      "[CV] END bootstrap=True, max_features=auto, min_samples_leaf=1, min_samples_split=10; total time=   2.0s\n",
      "[CV] END bootstrap=True, max_features=auto, min_samples_leaf=1, min_samples_split=10; total time=   2.0s\n",
      "[CV] END bootstrap=True, max_features=auto, min_samples_leaf=1, min_samples_split=10; total time=   2.0s\n",
      "[CV] END bootstrap=True, max_features=auto, min_samples_leaf=2, min_samples_split=2; total time=   2.0s\n",
      "[CV] END bootstrap=True, max_features=auto, min_samples_leaf=2, min_samples_split=2; total time=   2.0s\n",
      "[CV] END bootstrap=True, max_features=auto, min_samples_leaf=2, min_samples_split=2; total time=   2.1s\n",
      "[CV] END bootstrap=True, max_features=auto, min_samples_leaf=2, min_samples_split=5; total time=   2.1s\n",
      "[CV] END bootstrap=True, max_features=auto, min_samples_leaf=2, min_samples_split=5; total time=   2.1s\n",
      "[CV] END bootstrap=True, max_features=auto, min_samples_leaf=2, min_samples_split=5; total time=   2.0s\n",
      "[CV] END bootstrap=True, max_features=auto, min_samples_leaf=2, min_samples_split=10; total time=   2.0s\n",
      "[CV] END bootstrap=True, max_features=auto, min_samples_leaf=2, min_samples_split=10; total time=   2.0s\n",
      "[CV] END bootstrap=True, max_features=auto, min_samples_leaf=2, min_samples_split=10; total time=   2.0s\n",
      "[CV] END bootstrap=True, max_features=auto, min_samples_leaf=4, min_samples_split=2; total time=   2.0s\n",
      "[CV] END bootstrap=True, max_features=auto, min_samples_leaf=4, min_samples_split=2; total time=   1.9s\n",
      "[CV] END bootstrap=True, max_features=auto, min_samples_leaf=4, min_samples_split=2; total time=   2.0s\n",
      "[CV] END bootstrap=True, max_features=auto, min_samples_leaf=4, min_samples_split=5; total time=   1.9s\n",
      "[CV] END bootstrap=True, max_features=auto, min_samples_leaf=4, min_samples_split=5; total time=   1.9s\n",
      "[CV] END bootstrap=True, max_features=auto, min_samples_leaf=4, min_samples_split=5; total time=   1.9s\n",
      "[CV] END bootstrap=True, max_features=auto, min_samples_leaf=4, min_samples_split=10; total time=   1.9s\n",
      "[CV] END bootstrap=True, max_features=auto, min_samples_leaf=4, min_samples_split=10; total time=   1.9s\n",
      "[CV] END bootstrap=True, max_features=auto, min_samples_leaf=4, min_samples_split=10; total time=   1.9s\n",
      "[CV] END bootstrap=True, max_features=sqrt, min_samples_leaf=1, min_samples_split=2; total time=   2.2s\n",
      "[CV] END bootstrap=True, max_features=sqrt, min_samples_leaf=1, min_samples_split=2; total time=   2.0s\n",
      "[CV] END bootstrap=True, max_features=sqrt, min_samples_leaf=1, min_samples_split=2; total time=   2.1s\n",
      "[CV] END bootstrap=True, max_features=sqrt, min_samples_leaf=1, min_samples_split=5; total time=   2.1s\n",
      "[CV] END bootstrap=True, max_features=sqrt, min_samples_leaf=1, min_samples_split=5; total time=   2.0s\n",
      "[CV] END bootstrap=True, max_features=sqrt, min_samples_leaf=1, min_samples_split=5; total time=   2.0s\n",
      "[CV] END bootstrap=True, max_features=sqrt, min_samples_leaf=1, min_samples_split=10; total time=   2.0s\n",
      "[CV] END bootstrap=True, max_features=sqrt, min_samples_leaf=1, min_samples_split=10; total time=   2.0s\n",
      "[CV] END bootstrap=True, max_features=sqrt, min_samples_leaf=1, min_samples_split=10; total time=   2.0s\n",
      "[CV] END bootstrap=True, max_features=sqrt, min_samples_leaf=2, min_samples_split=2; total time=   2.0s\n",
      "[CV] END bootstrap=True, max_features=sqrt, min_samples_leaf=2, min_samples_split=2; total time=   2.0s\n",
      "[CV] END bootstrap=True, max_features=sqrt, min_samples_leaf=2, min_samples_split=2; total time=   2.0s\n",
      "[CV] END bootstrap=True, max_features=sqrt, min_samples_leaf=2, min_samples_split=5; total time=   2.0s\n",
      "[CV] END bootstrap=True, max_features=sqrt, min_samples_leaf=2, min_samples_split=5; total time=   2.0s\n",
      "[CV] END bootstrap=True, max_features=sqrt, min_samples_leaf=2, min_samples_split=5; total time=   2.0s\n",
      "[CV] END bootstrap=True, max_features=sqrt, min_samples_leaf=2, min_samples_split=10; total time=   2.0s\n",
      "[CV] END bootstrap=True, max_features=sqrt, min_samples_leaf=2, min_samples_split=10; total time=   1.9s\n",
      "[CV] END bootstrap=True, max_features=sqrt, min_samples_leaf=2, min_samples_split=10; total time=   2.0s\n",
      "[CV] END bootstrap=True, max_features=sqrt, min_samples_leaf=4, min_samples_split=2; total time=   1.9s\n",
      "[CV] END bootstrap=True, max_features=sqrt, min_samples_leaf=4, min_samples_split=2; total time=   2.0s\n",
      "[CV] END bootstrap=True, max_features=sqrt, min_samples_leaf=4, min_samples_split=2; total time=   2.1s\n",
      "[CV] END bootstrap=True, max_features=sqrt, min_samples_leaf=4, min_samples_split=5; total time=   2.1s\n",
      "[CV] END bootstrap=True, max_features=sqrt, min_samples_leaf=4, min_samples_split=5; total time=   1.9s\n",
      "[CV] END bootstrap=True, max_features=sqrt, min_samples_leaf=4, min_samples_split=5; total time=   2.0s\n",
      "[CV] END bootstrap=True, max_features=sqrt, min_samples_leaf=4, min_samples_split=10; total time=   2.1s\n",
      "[CV] END bootstrap=True, max_features=sqrt, min_samples_leaf=4, min_samples_split=10; total time=   2.1s\n",
      "[CV] END bootstrap=True, max_features=sqrt, min_samples_leaf=4, min_samples_split=10; total time=   2.1s\n",
      "[CV] END bootstrap=False, max_features=auto, min_samples_leaf=1, min_samples_split=2; total time=   3.2s\n",
      "[CV] END bootstrap=False, max_features=auto, min_samples_leaf=1, min_samples_split=2; total time=   3.2s\n",
      "[CV] END bootstrap=False, max_features=auto, min_samples_leaf=1, min_samples_split=2; total time=   3.1s\n",
      "[CV] END bootstrap=False, max_features=auto, min_samples_leaf=1, min_samples_split=5; total time=   3.2s\n",
      "[CV] END bootstrap=False, max_features=auto, min_samples_leaf=1, min_samples_split=5; total time=   3.1s\n",
      "[CV] END bootstrap=False, max_features=auto, min_samples_leaf=1, min_samples_split=5; total time=   3.0s\n",
      "[CV] END bootstrap=False, max_features=auto, min_samples_leaf=1, min_samples_split=10; total time=   3.0s\n",
      "[CV] END bootstrap=False, max_features=auto, min_samples_leaf=1, min_samples_split=10; total time=   3.0s\n",
      "[CV] END bootstrap=False, max_features=auto, min_samples_leaf=1, min_samples_split=10; total time=   3.1s\n",
      "[CV] END bootstrap=False, max_features=auto, min_samples_leaf=2, min_samples_split=2; total time=   3.7s\n",
      "[CV] END bootstrap=False, max_features=auto, min_samples_leaf=2, min_samples_split=2; total time=   3.2s\n",
      "[CV] END bootstrap=False, max_features=auto, min_samples_leaf=2, min_samples_split=2; total time=   2.9s\n",
      "[CV] END bootstrap=False, max_features=auto, min_samples_leaf=2, min_samples_split=5; total time=   2.9s\n",
      "[CV] END bootstrap=False, max_features=auto, min_samples_leaf=2, min_samples_split=5; total time=   3.1s\n",
      "[CV] END bootstrap=False, max_features=auto, min_samples_leaf=2, min_samples_split=5; total time=   3.2s\n",
      "[CV] END bootstrap=False, max_features=auto, min_samples_leaf=2, min_samples_split=10; total time=   3.1s\n",
      "[CV] END bootstrap=False, max_features=auto, min_samples_leaf=2, min_samples_split=10; total time=   2.9s\n",
      "[CV] END bootstrap=False, max_features=auto, min_samples_leaf=2, min_samples_split=10; total time=   2.8s\n",
      "[CV] END bootstrap=False, max_features=auto, min_samples_leaf=4, min_samples_split=2; total time=   2.8s\n",
      "[CV] END bootstrap=False, max_features=auto, min_samples_leaf=4, min_samples_split=2; total time=   2.8s\n",
      "[CV] END bootstrap=False, max_features=auto, min_samples_leaf=4, min_samples_split=2; total time=   2.8s\n",
      "[CV] END bootstrap=False, max_features=auto, min_samples_leaf=4, min_samples_split=5; total time=   2.8s\n",
      "[CV] END bootstrap=False, max_features=auto, min_samples_leaf=4, min_samples_split=5; total time=   2.8s\n",
      "[CV] END bootstrap=False, max_features=auto, min_samples_leaf=4, min_samples_split=5; total time=   2.8s\n"
     ]
    },
    {
     "name": "stdout",
     "output_type": "stream",
     "text": [
      "[CV] END bootstrap=False, max_features=auto, min_samples_leaf=4, min_samples_split=10; total time=   2.9s\n",
      "[CV] END bootstrap=False, max_features=auto, min_samples_leaf=4, min_samples_split=10; total time=   2.8s\n",
      "[CV] END bootstrap=False, max_features=auto, min_samples_leaf=4, min_samples_split=10; total time=   2.8s\n",
      "[CV] END bootstrap=False, max_features=sqrt, min_samples_leaf=1, min_samples_split=2; total time=   3.0s\n",
      "[CV] END bootstrap=False, max_features=sqrt, min_samples_leaf=1, min_samples_split=2; total time=   3.0s\n",
      "[CV] END bootstrap=False, max_features=sqrt, min_samples_leaf=1, min_samples_split=2; total time=   3.0s\n",
      "[CV] END bootstrap=False, max_features=sqrt, min_samples_leaf=1, min_samples_split=5; total time=   2.9s\n",
      "[CV] END bootstrap=False, max_features=sqrt, min_samples_leaf=1, min_samples_split=5; total time=   3.0s\n",
      "[CV] END bootstrap=False, max_features=sqrt, min_samples_leaf=1, min_samples_split=5; total time=   2.9s\n",
      "[CV] END bootstrap=False, max_features=sqrt, min_samples_leaf=1, min_samples_split=10; total time=   2.9s\n",
      "[CV] END bootstrap=False, max_features=sqrt, min_samples_leaf=1, min_samples_split=10; total time=   2.8s\n",
      "[CV] END bootstrap=False, max_features=sqrt, min_samples_leaf=1, min_samples_split=10; total time=   2.9s\n",
      "[CV] END bootstrap=False, max_features=sqrt, min_samples_leaf=2, min_samples_split=2; total time=   3.0s\n",
      "[CV] END bootstrap=False, max_features=sqrt, min_samples_leaf=2, min_samples_split=2; total time=   3.1s\n",
      "[CV] END bootstrap=False, max_features=sqrt, min_samples_leaf=2, min_samples_split=2; total time=   3.2s\n",
      "[CV] END bootstrap=False, max_features=sqrt, min_samples_leaf=2, min_samples_split=5; total time=   3.0s\n",
      "[CV] END bootstrap=False, max_features=sqrt, min_samples_leaf=2, min_samples_split=5; total time=   3.0s\n",
      "[CV] END bootstrap=False, max_features=sqrt, min_samples_leaf=2, min_samples_split=5; total time=   3.1s\n",
      "[CV] END bootstrap=False, max_features=sqrt, min_samples_leaf=2, min_samples_split=10; total time=   2.9s\n",
      "[CV] END bootstrap=False, max_features=sqrt, min_samples_leaf=2, min_samples_split=10; total time=   2.9s\n",
      "[CV] END bootstrap=False, max_features=sqrt, min_samples_leaf=2, min_samples_split=10; total time=   2.8s\n",
      "[CV] END bootstrap=False, max_features=sqrt, min_samples_leaf=4, min_samples_split=2; total time=   2.9s\n",
      "[CV] END bootstrap=False, max_features=sqrt, min_samples_leaf=4, min_samples_split=2; total time=   2.8s\n",
      "[CV] END bootstrap=False, max_features=sqrt, min_samples_leaf=4, min_samples_split=2; total time=   2.8s\n",
      "[CV] END bootstrap=False, max_features=sqrt, min_samples_leaf=4, min_samples_split=5; total time=   2.8s\n",
      "[CV] END bootstrap=False, max_features=sqrt, min_samples_leaf=4, min_samples_split=5; total time=   2.8s\n",
      "[CV] END bootstrap=False, max_features=sqrt, min_samples_leaf=4, min_samples_split=5; total time=   2.9s\n",
      "[CV] END bootstrap=False, max_features=sqrt, min_samples_leaf=4, min_samples_split=10; total time=   3.0s\n",
      "[CV] END bootstrap=False, max_features=sqrt, min_samples_leaf=4, min_samples_split=10; total time=   2.9s\n",
      "[CV] END bootstrap=False, max_features=sqrt, min_samples_leaf=4, min_samples_split=10; total time=   2.7s\n"
     ]
    },
    {
     "data": {
      "text/plain": [
       "GridSearchCV(cv=3, estimator=RandomForestClassifier(),\n",
       "             param_grid={'bootstrap': [True, False],\n",
       "                         'max_features': ['auto', 'sqrt'],\n",
       "                         'min_samples_leaf': [1, 2, 4],\n",
       "                         'min_samples_split': [2, 5, 10]},\n",
       "             verbose=2)"
      ]
     },
     "execution_count": 45,
     "metadata": {},
     "output_type": "execute_result"
    }
   ],
   "source": [
    "gs.fit(x_train, y_train)"
   ]
  },
  {
   "cell_type": "code",
   "execution_count": 46,
   "id": "97028991",
   "metadata": {},
   "outputs": [
    {
     "data": {
      "text/plain": [
       "0.9480338303252246"
      ]
     },
     "execution_count": 46,
     "metadata": {},
     "output_type": "execute_result"
    }
   ],
   "source": [
    "gs.best_score_"
   ]
  },
  {
   "cell_type": "code",
   "execution_count": 47,
   "id": "7f119ef9",
   "metadata": {},
   "outputs": [
    {
     "data": {
      "text/plain": [
       "{'bootstrap': True,\n",
       " 'max_features': 'auto',\n",
       " 'min_samples_leaf': 1,\n",
       " 'min_samples_split': 5}"
      ]
     },
     "execution_count": 47,
     "metadata": {},
     "output_type": "execute_result"
    }
   ],
   "source": [
    "gs.best_params_"
   ]
  },
  {
   "cell_type": "markdown",
   "id": "40076204",
   "metadata": {},
   "source": [
    "## K- Nearest Neighbour (KNN) Classification"
   ]
  },
  {
   "cell_type": "code",
   "execution_count": 29,
   "id": "b106fb3b",
   "metadata": {},
   "outputs": [],
   "source": [
    "from sklearn.neighbors import KNeighborsClassifier"
   ]
  },
  {
   "cell_type": "code",
   "execution_count": 30,
   "id": "abca7486",
   "metadata": {},
   "outputs": [],
   "source": [
    "knn = KNeighborsClassifier()"
   ]
  },
  {
   "cell_type": "code",
   "execution_count": 31,
   "id": "70ad3860",
   "metadata": {},
   "outputs": [
    {
     "data": {
      "text/plain": [
       "KNeighborsClassifier()"
      ]
     },
     "execution_count": 31,
     "metadata": {},
     "output_type": "execute_result"
    }
   ],
   "source": [
    "knn.fit(x_train, y_train)"
   ]
  },
  {
   "cell_type": "code",
   "execution_count": 32,
   "id": "0d321b60",
   "metadata": {},
   "outputs": [
    {
     "data": {
      "text/plain": [
       "0.9473798936262969"
      ]
     },
     "execution_count": 32,
     "metadata": {},
     "output_type": "execute_result"
    }
   ],
   "source": [
    "knn.score(x_train, y_train)"
   ]
  },
  {
   "cell_type": "code",
   "execution_count": 33,
   "id": "4c1df9dd",
   "metadata": {},
   "outputs": [
    {
     "data": {
      "text/plain": [
       "0.939985759332723"
      ]
     },
     "execution_count": 33,
     "metadata": {},
     "output_type": "execute_result"
    }
   ],
   "source": [
    "knn.score(x_test, y_test)"
   ]
  },
  {
   "cell_type": "code",
   "execution_count": 34,
   "id": "d1a9aec3",
   "metadata": {},
   "outputs": [],
   "source": [
    "# Tuning the parameters for KNN classifier to get a better result\n",
    "\n",
    "neighbors = [i for i in range(2,10)]\n",
    "accuracies = list()\n",
    "\n",
    "for i in neighbors:\n",
    "    knn = KNeighborsClassifier(n_neighbors = i)\n",
    "    knn.fit(x_train, y_train)\n",
    "    accuracies.append(knn.score(x_test, y_test))"
   ]
  },
  {
   "cell_type": "code",
   "execution_count": 35,
   "id": "d702616b",
   "metadata": {},
   "outputs": [
    {
     "data": {
      "text/plain": [
       "<AxesSubplot:>"
      ]
     },
     "execution_count": 35,
     "metadata": {},
     "output_type": "execute_result"
    },
    {
     "data": {
      "image/png": "[encoded data removed]",
      "text/plain": [
       "<Figure size 576x720 with 1 Axes>"
      ]
     },
     "metadata": {
      "needs_background": "light"
     },
     "output_type": "display_data"
    }
   ],
   "source": [
    "plt.figure(figsize=(8,10))\n",
    "sns.barplot(x=neighbors, y=accuracies)"
   ]
  },
  {
   "cell_type": "code",
   "execution_count": 36,
   "id": "6cbd02c6",
   "metadata": {},
   "outputs": [],
   "source": [
    "knn = KNeighborsClassifier(n_neighbors=9)"
   ]
  },
  {
   "cell_type": "code",
   "execution_count": 37,
   "id": "f10f9827",
   "metadata": {},
   "outputs": [
    {
     "data": {
      "text/plain": [
       "KNeighborsClassifier(n_neighbors=9)"
      ]
     },
     "execution_count": 37,
     "metadata": {},
     "output_type": "execute_result"
    }
   ],
   "source": [
    "knn.fit(x_train, y_train)"
   ]
  },
  {
   "cell_type": "code",
   "execution_count": 38,
   "id": "faecd495",
   "metadata": {},
   "outputs": [
    {
     "data": {
      "text/plain": [
       "0.9431511029732322"
      ]
     },
     "execution_count": 38,
     "metadata": {},
     "output_type": "execute_result"
    }
   ],
   "source": [
    "knn.score(x_train,y_train)"
   ]
  },
  {
   "cell_type": "code",
   "execution_count": 39,
   "id": "7187f12a",
   "metadata": {},
   "outputs": [
    {
     "data": {
      "text/plain": [
       "0.9426304546841623"
      ]
     },
     "execution_count": 39,
     "metadata": {},
     "output_type": "execute_result"
    }
   ],
   "source": [
    "knn.score(x_test,y_test)"
   ]
  },
  {
   "cell_type": "markdown",
   "id": "72b9c0c0",
   "metadata": {},
   "source": [
    "## Support Vector Machines"
   ]
  },
  {
   "cell_type": "code",
   "execution_count": 24,
   "id": "8abe910c",
   "metadata": {},
   "outputs": [],
   "source": [
    "from sklearn.svm import SVC"
   ]
  },
  {
   "cell_type": "code",
   "execution_count": 29,
   "id": "034d6126",
   "metadata": {},
   "outputs": [],
   "source": [
    "clf = SVC()"
   ]
  },
  {
   "cell_type": "code",
   "execution_count": 30,
   "id": "b942bf28",
   "metadata": {},
   "outputs": [
    {
     "data": {
      "text/plain": [
       "SVC()"
      ]
     },
     "execution_count": 30,
     "metadata": {},
     "output_type": "execute_result"
    }
   ],
   "source": [
    "clf.fit(x_train, y_train)"
   ]
  },
  {
   "cell_type": "code",
   "execution_count": 31,
   "id": "e5394177",
   "metadata": {},
   "outputs": [
    {
     "data": {
      "text/plain": [
       "0.9416252506757345"
      ]
     },
     "execution_count": 31,
     "metadata": {},
     "output_type": "execute_result"
    }
   ],
   "source": [
    "clf.score(x_train, y_train)"
   ]
  },
  {
   "cell_type": "code",
   "execution_count": 32,
   "id": "1ae4ec7b",
   "metadata": {},
   "outputs": [
    {
     "data": {
      "text/plain": [
       "0.9432407689960329"
      ]
     },
     "execution_count": 32,
     "metadata": {},
     "output_type": "execute_result"
    }
   ],
   "source": [
    "clf.score(x_test,y_test)"
   ]
  },
  {
   "cell_type": "code",
   "execution_count": 35,
   "id": "7559aa56",
   "metadata": {},
   "outputs": [],
   "source": [
    "parameters = {'C':[0.1, 1],\n",
    "             'gamma':[0.0001, 0.00001]\n",
    "             }"
   ]
  },
  {
   "cell_type": "code",
   "execution_count": 36,
   "id": "e3cfdc51",
   "metadata": {},
   "outputs": [],
   "source": [
    "gs = GridSearchCV(estimator = clf, param_grid= parameters, cv = 3, verbose = 2)"
   ]
  },
  {
   "cell_type": "code",
   "execution_count": 37,
   "id": "5252b225",
   "metadata": {},
   "outputs": [
    {
     "name": "stdout",
     "output_type": "stream",
     "text": [
      "Fitting 3 folds for each of 4 candidates, totalling 12 fits\n",
      "[CV] END ................................C=0.1, gamma=0.0001; total time= 1.4min\n",
      "[CV] END ................................C=0.1, gamma=0.0001; total time= 1.4min\n",
      "[CV] END ................................C=0.1, gamma=0.0001; total time= 1.6min\n",
      "[CV] END .................................C=0.1, gamma=1e-05; total time= 1.4min\n",
      "[CV] END .................................C=0.1, gamma=1e-05; total time= 1.4min\n",
      "[CV] END .................................C=0.1, gamma=1e-05; total time= 1.4min\n",
      "[CV] END ..................................C=1, gamma=0.0001; total time= 1.4min\n",
      "[CV] END ..................................C=1, gamma=0.0001; total time= 1.3min\n",
      "[CV] END ..................................C=1, gamma=0.0001; total time= 2.0min\n",
      "[CV] END ...................................C=1, gamma=1e-05; total time= 2.0min\n",
      "[CV] END ...................................C=1, gamma=1e-05; total time= 1.8min\n",
      "[CV] END ...................................C=1, gamma=1e-05; total time= 2.1min\n"
     ]
    },
    {
     "data": {
      "text/plain": [
       "GridSearchCV(cv=3, estimator=SVC(),\n",
       "             param_grid={'C': [0.1, 1], 'gamma': [0.0001, 1e-05]}, verbose=2)"
      ]
     },
     "execution_count": 37,
     "metadata": {},
     "output_type": "execute_result"
    }
   ],
   "source": [
    "gs.fit(x_train,y_train)"
   ]
  },
  {
   "cell_type": "code",
   "execution_count": 38,
   "id": "e5a7529b",
   "metadata": {},
   "outputs": [
    {
     "data": {
      "text/plain": [
       "{'C': 1, 'gamma': 0.0001}"
      ]
     },
     "execution_count": 38,
     "metadata": {},
     "output_type": "execute_result"
    }
   ],
   "source": [
    "gs.best_params_"
   ]
  },
  {
   "cell_type": "code",
   "execution_count": 39,
   "id": "2da98dda",
   "metadata": {},
   "outputs": [
    {
     "data": {
      "text/plain": [
       "0.9430203156334467"
      ]
     },
     "execution_count": 39,
     "metadata": {},
     "output_type": "execute_result"
    }
   ],
   "source": [
    "gs.best_score_"
   ]
  },
  {
   "cell_type": "code",
   "execution_count": 40,
   "id": "8633c214",
   "metadata": {},
   "outputs": [],
   "source": [
    "clf = SVC(kernel = 'rbf', C = 1, gamma = 0.0001)"
   ]
  },
  {
   "cell_type": "code",
   "execution_count": null,
   "id": "9cc0d5ef",
   "metadata": {},
   "outputs": [],
   "source": [
    "clf.fit(x_train, y_train)"
   ]
  },
  {
   "cell_type": "markdown",
   "id": "27fafd6f",
   "metadata": {},
   "source": [
    "# Applying adaptive boosting technique"
   ]
  },
  {
   "cell_type": "code",
   "execution_count": 38,
   "id": "5743884d",
   "metadata": {},
   "outputs": [],
   "source": [
    "from sklearn.ensemble import AdaBoostClassifier"
   ]
  },
  {
   "cell_type": "code",
   "execution_count": 39,
   "id": "9b07e64a",
   "metadata": {},
   "outputs": [],
   "source": [
    "from sklearn import metrics as mt\n",
    "from sklearn.model_selection import KFold, cross_val_score"
   ]
  },
  {
   "cell_type": "code",
   "execution_count": 40,
   "id": "35ad5478",
   "metadata": {},
   "outputs": [
    {
     "data": {
      "text/plain": [
       "AdaBoostClassifier()"
      ]
     },
     "execution_count": 40,
     "metadata": {},
     "output_type": "execute_result"
    }
   ],
   "source": [
    "AB = AdaBoostClassifier()\n",
    "AB.fit(x_train, y_train)"
   ]
  },
  {
   "cell_type": "code",
   "execution_count": 41,
   "id": "e1579ab8",
   "metadata": {},
   "outputs": [],
   "source": [
    "# Checking scores for training data\n",
    "AB_pred = AB.predict(x_train)"
   ]
  },
  {
   "cell_type": "code",
   "execution_count": 42,
   "id": "c80e7cac",
   "metadata": {},
   "outputs": [
    {
     "name": "stdout",
     "output_type": "stream",
     "text": [
      "              precision    recall  f1-score   support\n",
      "\n",
      "           0       1.00      0.00      0.00      1339\n",
      "           1       0.94      1.00      0.97     21599\n",
      "\n",
      "    accuracy                           0.94     22938\n",
      "   macro avg       0.97      0.50      0.49     22938\n",
      "weighted avg       0.95      0.94      0.91     22938\n",
      "\n"
     ]
    }
   ],
   "source": [
    "# Classification report for training data\n",
    "print(mt.classification_report(y_train, AB_pred))"
   ]
  },
  {
   "cell_type": "code",
   "execution_count": 43,
   "id": "4101e0c2",
   "metadata": {},
   "outputs": [
    {
     "data": {
      "text/plain": [
       "0.9416688464556631"
      ]
     },
     "execution_count": 43,
     "metadata": {},
     "output_type": "execute_result"
    }
   ],
   "source": [
    "# Accuracy\n",
    "AB_accuracy = mt.accuracy_score(y_train, AB_pred)\n",
    "AB_accuracy"
   ]
  },
  {
   "cell_type": "code",
   "execution_count": 44,
   "id": "61aa6904",
   "metadata": {},
   "outputs": [
    {
     "data": {
      "text/plain": [
       "0.9416663033526617"
      ]
     },
     "execution_count": 44,
     "metadata": {},
     "output_type": "execute_result"
    }
   ],
   "source": [
    "# Precison score \n",
    "AB_precision =  mt.precision_score(y_train, AB_pred)\n",
    "AB_precision"
   ]
  },
  {
   "cell_type": "code",
   "execution_count": 45,
   "id": "3d0123c0",
   "metadata": {},
   "outputs": [
    {
     "data": {
      "text/plain": [
       "0.9699568888090533"
      ]
     },
     "execution_count": 45,
     "metadata": {},
     "output_type": "execute_result"
    }
   ],
   "source": [
    "# F1-Score\n",
    "AB_f1 = mt.f1_score(y_train,AB_pred)\n",
    "AB_f1"
   ]
  },
  {
   "cell_type": "code",
   "execution_count": 46,
   "id": "5eaa2e0d",
   "metadata": {},
   "outputs": [
    {
     "data": {
      "text/plain": [
       "1.0"
      ]
     },
     "execution_count": 46,
     "metadata": {},
     "output_type": "execute_result"
    }
   ],
   "source": [
    "# Recall\n",
    "AB_rscore = mt.recall_score(y_train,AB_pred)\n",
    "AB_rscore"
   ]
  },
  {
   "cell_type": "code",
   "execution_count": 47,
   "id": "5f755b95",
   "metadata": {},
   "outputs": [],
   "source": [
    "# checking score for test data\n",
    "AB_pred_test = AB.predict(x_test)"
   ]
  },
  {
   "cell_type": "code",
   "execution_count": 48,
   "id": "e630fa8c",
   "metadata": {},
   "outputs": [
    {
     "data": {
      "text/plain": [
       "0.9432407689960329"
      ]
     },
     "execution_count": 48,
     "metadata": {},
     "output_type": "execute_result"
    }
   ],
   "source": [
    "AB_acc_test = mt.accuracy_score(y_test, AB_pred_test)\n",
    "AB_acc_test"
   ]
  },
  {
   "cell_type": "code",
   "execution_count": 49,
   "id": "e198c73e",
   "metadata": {},
   "outputs": [
    {
     "name": "stdout",
     "output_type": "stream",
     "text": [
      "              precision    recall  f1-score   support\n",
      "\n",
      "           0       0.00      0.00      0.00       558\n",
      "           1       0.94      1.00      0.97      9273\n",
      "\n",
      "    accuracy                           0.94      9831\n",
      "   macro avg       0.47      0.50      0.49      9831\n",
      "weighted avg       0.89      0.94      0.92      9831\n",
      "\n"
     ]
    },
    {
     "name": "stderr",
     "output_type": "stream",
     "text": [
      "C:\\Users\\sayan\\anaconda3\\lib\\site-packages\\sklearn\\metrics\\_classification.py:1245: UndefinedMetricWarning: Precision and F-score are ill-defined and being set to 0.0 in labels with no predicted samples. Use `zero_division` parameter to control this behavior.\n",
      "  _warn_prf(average, modifier, msg_start, len(result))\n",
      "C:\\Users\\sayan\\anaconda3\\lib\\site-packages\\sklearn\\metrics\\_classification.py:1245: UndefinedMetricWarning: Precision and F-score are ill-defined and being set to 0.0 in labels with no predicted samples. Use `zero_division` parameter to control this behavior.\n",
      "  _warn_prf(average, modifier, msg_start, len(result))\n",
      "C:\\Users\\sayan\\anaconda3\\lib\\site-packages\\sklearn\\metrics\\_classification.py:1245: UndefinedMetricWarning: Precision and F-score are ill-defined and being set to 0.0 in labels with no predicted samples. Use `zero_division` parameter to control this behavior.\n",
      "  _warn_prf(average, modifier, msg_start, len(result))\n"
     ]
    }
   ],
   "source": [
    "print(mt.classification_report(y_test, AB_pred_test))"
   ]
  },
  {
   "cell_type": "markdown",
   "id": "c94c25e1",
   "metadata": {},
   "source": [
    "## Gradient Boosting technique"
   ]
  },
  {
   "cell_type": "code",
   "execution_count": 50,
   "id": "9a20e89a",
   "metadata": {},
   "outputs": [],
   "source": [
    "from sklearn.ensemble import GradientBoostingClassifier"
   ]
  },
  {
   "cell_type": "code",
   "execution_count": 51,
   "id": "fc08cef5",
   "metadata": {},
   "outputs": [],
   "source": [
    "GB = GradientBoostingClassifier()"
   ]
  },
  {
   "cell_type": "code",
   "execution_count": 52,
   "id": "535cfa1b",
   "metadata": {},
   "outputs": [
    {
     "data": {
      "text/plain": [
       "GradientBoostingClassifier()"
      ]
     },
     "execution_count": 52,
     "metadata": {},
     "output_type": "execute_result"
    }
   ],
   "source": [
    "GB.fit(x_train, y_train)"
   ]
  },
  {
   "cell_type": "code",
   "execution_count": 53,
   "id": "6a5e719c",
   "metadata": {},
   "outputs": [],
   "source": [
    "GB_pred = GB.predict(x_train)"
   ]
  },
  {
   "cell_type": "code",
   "execution_count": 54,
   "id": "a1026ed9",
   "metadata": {},
   "outputs": [
    {
     "data": {
      "text/plain": [
       "0.9428459325137327"
      ]
     },
     "execution_count": 54,
     "metadata": {},
     "output_type": "execute_result"
    }
   ],
   "source": [
    "GB_accuracy = mt.accuracy_score(y_train, GB_pred)\n",
    "GB_accuracy"
   ]
  },
  {
   "cell_type": "code",
   "execution_count": 57,
   "id": "7670c633",
   "metadata": {},
   "outputs": [],
   "source": [
    "# Checking score for test data"
   ]
  },
  {
   "cell_type": "code",
   "execution_count": 58,
   "id": "98d79049",
   "metadata": {},
   "outputs": [],
   "source": [
    "GB_pred_test = GB.predict(x_test) "
   ]
  },
  {
   "cell_type": "code",
   "execution_count": 59,
   "id": "55c297c7",
   "metadata": {},
   "outputs": [
    {
     "data": {
      "text/plain": [
       "0.9440545214118604"
      ]
     },
     "execution_count": 59,
     "metadata": {},
     "output_type": "execute_result"
    }
   ],
   "source": [
    "GB_acc_test = mt.accuracy_score(y_test,GB_pred_test)\n",
    "GB_acc_test"
   ]
  },
  {
   "cell_type": "code",
   "execution_count": 60,
   "id": "65b8c19d",
   "metadata": {},
   "outputs": [
    {
     "name": "stdout",
     "output_type": "stream",
     "text": [
      "              precision    recall  f1-score   support\n",
      "\n",
      "           0       0.75      0.02      0.04       558\n",
      "           1       0.94      1.00      0.97      9273\n",
      "\n",
      "    accuracy                           0.94      9831\n",
      "   macro avg       0.85      0.51      0.51      9831\n",
      "weighted avg       0.93      0.94      0.92      9831\n",
      "\n"
     ]
    }
   ],
   "source": [
    "print(mt.classification_report(y_test, GB_pred_test))"
   ]
  },
  {
   "cell_type": "markdown",
   "id": "8e65edd8",
   "metadata": {},
   "source": [
    "## Bagging Classifier"
   ]
  },
  {
   "cell_type": "code",
   "execution_count": 61,
   "id": "82902660",
   "metadata": {},
   "outputs": [],
   "source": [
    "from sklearn.ensemble import BaggingClassifier"
   ]
  },
  {
   "cell_type": "code",
   "execution_count": 63,
   "id": "603c31d3",
   "metadata": {},
   "outputs": [
    {
     "data": {
      "text/plain": [
       "BaggingClassifier()"
      ]
     },
     "execution_count": 63,
     "metadata": {},
     "output_type": "execute_result"
    }
   ],
   "source": [
    "BC = BaggingClassifier()\n",
    "BC.fit(x_train, y_train)"
   ]
  },
  {
   "cell_type": "code",
   "execution_count": 64,
   "id": "6b795244",
   "metadata": {},
   "outputs": [],
   "source": [
    "BC_pred = BC.predict(x_train)"
   ]
  },
  {
   "cell_type": "code",
   "execution_count": 65,
   "id": "f7c96587",
   "metadata": {},
   "outputs": [
    {
     "data": {
      "text/plain": [
       "0.9960327840265062"
      ]
     },
     "execution_count": 65,
     "metadata": {},
     "output_type": "execute_result"
    }
   ],
   "source": [
    "# Checking accuracy for train data\n",
    "BC_acc = mt.accuracy_score(y_train, BC_pred)\n",
    "BC_acc"
   ]
  },
  {
   "cell_type": "code",
   "execution_count": 67,
   "id": "9091207e",
   "metadata": {},
   "outputs": [
    {
     "name": "stdout",
     "output_type": "stream",
     "text": [
      "              precision    recall  f1-score   support\n",
      "\n",
      "           0       0.98      0.95      0.97      1339\n",
      "           1       1.00      1.00      1.00     21599\n",
      "\n",
      "    accuracy                           1.00     22938\n",
      "   macro avg       0.99      0.98      0.98     22938\n",
      "weighted avg       1.00      1.00      1.00     22938\n",
      "\n"
     ]
    }
   ],
   "source": [
    "# Classification report Bagging Classifier\n",
    "print(mt.classification_report(y_train, BC_pred))"
   ]
  },
  {
   "cell_type": "code",
   "execution_count": 69,
   "id": "67ba4578",
   "metadata": {},
   "outputs": [],
   "source": [
    "# Checking accuracy for test data\n",
    "Bc_pred_test = BC.predict(x_test)"
   ]
  },
  {
   "cell_type": "code",
   "execution_count": 72,
   "id": "5dc8a664",
   "metadata": {},
   "outputs": [
    {
     "data": {
      "text/plain": [
       "0.9447665547757095"
      ]
     },
     "execution_count": 72,
     "metadata": {},
     "output_type": "execute_result"
    }
   ],
   "source": [
    "# Checking accuray for test data\n",
    "Bcc_acc_test = mt.accuracy_score(y_test, Bc_pred_test)\n",
    "Bcc_acc_test"
   ]
  },
  {
   "cell_type": "code",
   "execution_count": 74,
   "id": "4998ef05",
   "metadata": {},
   "outputs": [
    {
     "name": "stdout",
     "output_type": "stream",
     "text": [
      "              precision    recall  f1-score   support\n",
      "\n",
      "           0       0.52      0.39      0.44       558\n",
      "           1       0.96      0.98      0.97      9273\n",
      "\n",
      "    accuracy                           0.94      9831\n",
      "   macro avg       0.74      0.68      0.71      9831\n",
      "weighted avg       0.94      0.94      0.94      9831\n",
      "\n"
     ]
    }
   ],
   "source": [
    "print(mt.classification_report(y_test, Bc_pred_test))"
   ]
  },
  {
   "cell_type": "code",
   "execution_count": null,
   "id": "d41f0967",
   "metadata": {},
   "outputs": [],
   "source": []
  }
 ],
 "metadata": {
  "kernelspec": {
   "display_name": "Python 3",
   "language": "python",
   "name": "python3"
  },
  "language_info": {
   "codemirror_mode": {
    "name": "ipython",
    "version": 3
   },
   "file_extension": ".py",
   "mimetype": "text/x-python",
   "name": "python",
   "nbconvert_exporter": "python",
   "pygments_lexer": "ipython3",
   "version": "3.8.8"
  }
 },
 "nbformat": 4,
 "nbformat_minor": 5
}
